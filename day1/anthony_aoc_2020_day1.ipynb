{
 "cells": [
  {
   "cell_type": "markdown",
   "metadata": {},
   "source": [
    "## AOC Day 1"
   ]
  },
  {
   "cell_type": "markdown",
   "metadata": {},
   "source": [
    "### Question 1.1"
   ]
  },
  {
   "cell_type": "code",
   "execution_count": 1,
   "metadata": {},
   "outputs": [],
   "source": [
    "with open('expense_report.txt') as f:\n",
    "    expenses = [line.rstrip() for line in f]"
   ]
  },
  {
   "cell_type": "code",
   "execution_count": 2,
   "metadata": {},
   "outputs": [
    {
     "name": "stdout",
     "output_type": "stream",
     "text": [
      "399 1621 646779\n",
      "1621 399 646779\n"
     ]
    }
   ],
   "source": [
    "for i in range(len(expenses)):\n",
    "    current = int(expenses[i])\n",
    "    for j in range(len(expenses)):\n",
    "        addit = int(expenses[j])\n",
    "        summ = current + addit\n",
    "        if (summ ==2020):\n",
    "            print(current,addit,current*addit)"
   ]
  },
  {
   "cell_type": "markdown",
   "metadata": {},
   "source": [
    "### Question 1.2"
   ]
  },
  {
   "cell_type": "code",
   "execution_count": 3,
   "metadata": {},
   "outputs": [
    {
     "name": "stdout",
     "output_type": "stream",
     "text": [
      "591 1021 408 246191688\n",
      "591 408 1021 246191688\n",
      "1021 591 408 246191688\n",
      "1021 408 591 246191688\n",
      "408 591 1021 246191688\n",
      "408 1021 591 246191688\n"
     ]
    }
   ],
   "source": [
    "for i in range(len(expenses)):\n",
    "    current = int(expenses[i])\n",
    "    for j in range(len(expenses)):\n",
    "        addit = int(expenses[j])\n",
    "        for k in range(len(expenses)):\n",
    "            second = int(expenses[k])\n",
    "            summ = current + addit + second\n",
    "            if (summ ==2020):\n",
    "                print(current,addit,second,current*addit*second)"
   ]
  }
 ],
 "metadata": {
  "kernelspec": {
   "display_name": "Python 3",
   "language": "python",
   "name": "python3"
  },
  "language_info": {
   "codemirror_mode": {
    "name": "ipython",
    "version": 3
   },
   "file_extension": ".py",
   "mimetype": "text/x-python",
   "name": "python",
   "nbconvert_exporter": "python",
   "pygments_lexer": "ipython3",
   "version": "3.8.5"
  }
 },
 "nbformat": 4,
 "nbformat_minor": 4
}
