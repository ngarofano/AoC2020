{
 "cells": [
  {
   "cell_type": "markdown",
   "metadata": {},
   "source": [
    "## AOC Day 4"
   ]
  },
  {
   "cell_type": "markdown",
   "metadata": {},
   "source": [
    "### Question 4.1"
   ]
  },
  {
   "cell_type": "code",
   "execution_count": 232,
   "metadata": {},
   "outputs": [],
   "source": [
    "import numpy as np\n",
    "import math\n",
    "import re\n",
    "with open('passports.txt') as f:\n",
    "    pass2 = f.read()\n",
    "    pass3 = pass2.replace('\\n\\n', '/')\n",
    "    pass4 = pass3.replace('\\n', ' ')\n",
    "passports_cleaned = pass4.split('/')"
   ]
  },
  {
   "cell_type": "code",
   "execution_count": 233,
   "metadata": {},
   "outputs": [],
   "source": [
    "keys = ['byr', 'iyr', 'eyr', 'hgt', 'hcl', 'ecl', 'pid']\n",
    "pass_person = 0\n",
    "for i in range(len(passports_cleaned)):\n",
    "    person_temp = passports_cleaned[i].split(' ')\n",
    "    person = list(filter(None, person_temp))\n",
    "\n",
    "    person_dict = {}\n",
    "    for peice in person:\n",
    "        k = peice.split(':')\n",
    "        person_dict[k[0]] = k[1]\n",
    "    count = 0\n",
    "    for key in keys:\n",
    "        if key in person_dict.keys():\n",
    "            count = count + 1\n",
    "    if count == 7:\n",
    "        pass_person = pass_person + 1"
   ]
  },
  {
   "cell_type": "code",
   "execution_count": 234,
   "metadata": {},
   "outputs": [
    {
     "data": {
      "text/plain": [
       "228"
      ]
     },
     "execution_count": 234,
     "metadata": {},
     "output_type": "execute_result"
    }
   ],
   "source": [
    "pass_person"
   ]
  },
  {
   "cell_type": "markdown",
   "metadata": {},
   "source": [
    "### Question 4.2"
   ]
  },
  {
   "cell_type": "code",
   "execution_count": 235,
   "metadata": {},
   "outputs": [],
   "source": [
    "keys = ['byr', 'iyr', 'eyr', 'hgt', 'hcl', 'ecl', 'pid']\n",
    "pass_person = 0\n",
    "correct_persons = []\n",
    "for i in range(len(passports_cleaned)):\n",
    "    person_temp = passports_cleaned[i].split(' ')\n",
    "    person = list(filter(None, person_temp))\n",
    "\n",
    "    person_dict = {}\n",
    "    for peice in person:\n",
    "        k = peice.split(':')\n",
    "        person_dict[k[0]] = k[1]\n",
    "    count = 0\n",
    "    for key in keys:\n",
    "        if key in person_dict.keys():\n",
    "            count = count + 1\n",
    "    if count == 7:\n",
    "        pass_person = pass_person + 1\n",
    "        person_dict.pop('cid',None)\n",
    "        sorted_person = dict(sorted(person_dict.items(), key=lambda x: x[0].lower()))\n",
    "        correct_persons.append([sorted_person])"
   ]
  },
  {
   "cell_type": "code",
   "execution_count": 236,
   "metadata": {},
   "outputs": [],
   "source": [
    "valid = 0\n",
    "for n in range(len(correct_persons)):\n",
    "    valid_counter = 0\n",
    "    byr = int(correct_persons[n][0]['byr'])\n",
    "    iyr = int(correct_persons[n][0]['iyr'])\n",
    "    eyr = int(correct_persons[n][0]['eyr'])\n",
    "    temp_hgt = correct_persons[n][0]['hgt']\n",
    "    temp_hgt = temp_hgt.replace('in', ' in')\n",
    "    temp_hgt = temp_hgt.replace('cm', ' cm')\n",
    "    hgt = temp_hgt.split(' ')\n",
    "    ecl = correct_persons[n][0]['ecl']\n",
    "    pid = correct_persons[n][0]['pid']\n",
    "    hcl = correct_persons[n][0]['hcl']\n",
    "    ecl_range = ['amb', 'blu', 'brn', 'gry', 'grn', 'hzl', 'oth']\n",
    "    if  1920 <= byr <= 2002:\n",
    "        valid_counter = valid_counter + 1\n",
    "    if  2010 <= iyr <= 2020:\n",
    "        valid_counter = valid_counter + 1\n",
    "    if  2020 <= eyr <= 2030:\n",
    "        valid_counter = valid_counter + 1\n",
    "    if len(hgt) == 2 and hgt[1] == 'cm' and (150<=int(hgt[0])<=193):\n",
    "        valid_counter = valid_counter + 1\n",
    "    if len(hgt) == 2 and hgt[1] == 'in' and (59<=int(hgt[0])<=76):\n",
    "        valid_counter = valid_counter + 1\n",
    "    if ecl in ecl_range:\n",
    "        valid_counter = valid_counter + 1\n",
    "    if(bool(re.match(\"^\\d{9}$\", pid))) == True:\n",
    "        valid_counter = valid_counter + 1 \n",
    "    if(bool(hcl.startswith('#')) and bool((re.match(\"^#[a-z0-9]{6}$\", hcl))) == True):\n",
    "        valid_counter = valid_counter + 1 \n",
    "    if valid_counter == 7:\n",
    "        valid = valid + 1  "
   ]
  },
  {
   "cell_type": "code",
   "execution_count": 237,
   "metadata": {},
   "outputs": [
    {
     "name": "stdout",
     "output_type": "stream",
     "text": [
      "175\n"
     ]
    }
   ],
   "source": [
    "print(valid)"
   ]
  },
  {
   "cell_type": "code",
   "execution_count": null,
   "metadata": {},
   "outputs": [],
   "source": []
  }
 ],
 "metadata": {
  "kernelspec": {
   "display_name": "Python 3",
   "language": "python",
   "name": "python3"
  },
  "language_info": {
   "codemirror_mode": {
    "name": "ipython",
    "version": 3
   },
   "file_extension": ".py",
   "mimetype": "text/x-python",
   "name": "python",
   "nbconvert_exporter": "python",
   "pygments_lexer": "ipython3",
   "version": "3.8.5"
  }
 },
 "nbformat": 4,
 "nbformat_minor": 4
}
