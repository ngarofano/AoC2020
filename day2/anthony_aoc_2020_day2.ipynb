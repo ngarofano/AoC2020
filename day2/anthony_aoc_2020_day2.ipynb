{
 "cells": [
  {
   "cell_type": "markdown",
   "metadata": {},
   "source": [
    "## AOC Day 2"
   ]
  },
  {
   "cell_type": "markdown",
   "metadata": {},
   "source": [
    "### Question 2.1"
   ]
  },
  {
   "cell_type": "code",
   "execution_count": 5,
   "metadata": {},
   "outputs": [],
   "source": [
    "with open('passwords.txt') as f:\n",
    "    passwords = [line.rstrip() for line in f]"
   ]
  },
  {
   "cell_type": "code",
   "execution_count": 6,
   "metadata": {},
   "outputs": [
    {
     "name": "stdout",
     "output_type": "stream",
     "text": [
      "655\n"
     ]
    }
   ],
   "source": [
    "correct = 0\n",
    "for i in range(len(passwords)):\n",
    "    temp1 = passwords[i].split('-')\n",
    "    minn = int(temp1[0])\n",
    "    temp2 = temp1[1].split(' ')\n",
    "    maxn = int(temp2[0])\n",
    "    passn = temp2[2]\n",
    "    temp3 = temp2[1].split(':')\n",
    "    letn = temp3[0]\n",
    "    count = 0\n",
    "    for j in range(len(passn)):\n",
    "        if passn[j] == letn:\n",
    "            count = count+1\n",
    "            \n",
    "    if (minn<=count<=maxn):\n",
    "        correct = correct + 1\n",
    "        \n",
    "print(correct)"
   ]
  },
  {
   "cell_type": "markdown",
   "metadata": {},
   "source": [
    "### Question 2.2"
   ]
  },
  {
   "cell_type": "code",
   "execution_count": 7,
   "metadata": {},
   "outputs": [
    {
     "name": "stdout",
     "output_type": "stream",
     "text": [
      "673\n"
     ]
    }
   ],
   "source": [
    "correct = 0\n",
    "for i in range(len(passwords)):\n",
    "    temp1 = passwords[i].split('-')\n",
    "    first = int(temp1[0]) - 1\n",
    "    temp2 = temp1[1].split(' ')\n",
    "    second = int(temp2[0]) - 1\n",
    "    passn = temp2[2]\n",
    "    temp3 = temp2[1].split(':')\n",
    "    letn = temp3[0]\n",
    "    if (passn[first] == letn) ^ (passn[second] == letn):\n",
    "        correct = correct + 1\n",
    "\n",
    "print(correct)"
   ]
  },
  {
   "cell_type": "code",
   "execution_count": null,
   "metadata": {},
   "outputs": [],
   "source": []
  }
 ],
 "metadata": {
  "kernelspec": {
   "display_name": "Python 3",
   "language": "python",
   "name": "python3"
  },
  "language_info": {
   "codemirror_mode": {
    "name": "ipython",
    "version": 3
   },
   "file_extension": ".py",
   "mimetype": "text/x-python",
   "name": "python",
   "nbconvert_exporter": "python",
   "pygments_lexer": "ipython3",
   "version": "3.8.5"
  }
 },
 "nbformat": 4,
 "nbformat_minor": 4
}
