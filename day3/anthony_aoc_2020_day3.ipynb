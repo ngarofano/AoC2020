{
 "cells": [
  {
   "cell_type": "markdown",
   "metadata": {},
   "source": [
    "## AOC Day 3"
   ]
  },
  {
   "cell_type": "markdown",
   "metadata": {},
   "source": [
    "### Question 3.1"
   ]
  },
  {
   "cell_type": "code",
   "execution_count": 6,
   "metadata": {},
   "outputs": [],
   "source": [
    "import numpy as np\n",
    "import math\n",
    "with open('route.txt') as f:\n",
    "    route_temp = [line.rstrip() for line in f]"
   ]
  },
  {
   "cell_type": "code",
   "execution_count": 15,
   "metadata": {},
   "outputs": [],
   "source": [
    "def num_trees(r,d,route_temp):\n",
    "    lengthnum = math.ceil((len(route_temp) * r)/len(route_temp[0]))\n",
    "    route = route_temp\n",
    "    for i in range(len(route_temp)):\n",
    "        route[i] = route_temp[i] * lengthnum\n",
    "    routearrtemp = np.array(route)\n",
    "    routearr = routearrtemp.T\n",
    "    trees = 0\n",
    "    x = 0\n",
    "    y = 0\n",
    "    for k in range(math.floor(len(routearr)/d)):\n",
    "        if((routearr[y][x]) == '#'):\n",
    "            trees = trees + 1\n",
    "        x = x + r\n",
    "        y = y + d\n",
    "    return trees"
   ]
  },
  {
   "cell_type": "code",
   "execution_count": 16,
   "metadata": {},
   "outputs": [
    {
     "name": "stdout",
     "output_type": "stream",
     "text": [
      "200\n"
     ]
    }
   ],
   "source": [
    "hit_trees = num_trees(3,1,route_temp)\n",
    "print(hit_trees)"
   ]
  },
  {
   "cell_type": "markdown",
   "metadata": {},
   "source": [
    "### Question 3.2"
   ]
  },
  {
   "cell_type": "code",
   "execution_count": 18,
   "metadata": {},
   "outputs": [
    {
     "name": "stdout",
     "output_type": "stream",
     "text": [
      "3737923200\n"
     ]
    }
   ],
   "source": [
    "hit_trees1 = num_trees(1,1,route_temp)\n",
    "hit_trees2 = num_trees(3,1,route_temp)\n",
    "hit_trees3 = num_trees(5,1,route_temp)\n",
    "hit_trees4 = num_trees(7,1,route_temp)\n",
    "hit_trees5 = num_trees(1,2,route_temp)\n",
    "\n",
    "total_hit = hit_trees1 * hit_trees2 * hit_trees3 * hit_trees4 * hit_trees5\n",
    "print(total_hit)"
   ]
  },
  {
   "cell_type": "code",
   "execution_count": null,
   "metadata": {},
   "outputs": [],
   "source": []
  }
 ],
 "metadata": {
  "kernelspec": {
   "display_name": "Python 3",
   "language": "python",
   "name": "python3"
  },
  "language_info": {
   "codemirror_mode": {
    "name": "ipython",
    "version": 3
   },
   "file_extension": ".py",
   "mimetype": "text/x-python",
   "name": "python",
   "nbconvert_exporter": "python",
   "pygments_lexer": "ipython3",
   "version": "3.8.5"
  }
 },
 "nbformat": 4,
 "nbformat_minor": 4
}
